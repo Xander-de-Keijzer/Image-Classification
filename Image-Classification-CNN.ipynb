{
 "cells": [
  {
   "cell_type": "markdown",
   "id": "4d28d9cf",
   "metadata": {},
   "source": [
    "# 0) Credits\n",
    "## Tensorflow\n",
    "A lot of choices are based on the tutorial(s) made by tensorflow.\n",
    "https://www.tensorflow.org/tutorials/images/classification"
   ]
  },
  {
   "cell_type": "markdown",
   "id": "1fe9378f",
   "metadata": {},
   "source": [
    "# 1) Imports\n",
    "## packages"
   ]
  },
  {
   "cell_type": "code",
   "execution_count": null,
   "id": "d988381e",
   "metadata": {},
   "outputs": [],
   "source": [
    "import numpy as np\n",
    "import tensorflow as tf\n",
    "import matplotlib.pyplot as plt\n",
    "import random\n",
    "import json\n",
    "import os\n",
    "import absl.logging"
   ]
  },
  {
   "cell_type": "markdown",
   "id": "e16de2a3",
   "metadata": {},
   "source": [
    "## datasets"
   ]
  },
  {
   "cell_type": "code",
   "execution_count": null,
   "id": "2cfccb70",
   "metadata": {},
   "outputs": [],
   "source": [
    "import tensorflow.keras.datasets.cifar10 as cifar10"
   ]
  },
  {
   "cell_type": "markdown",
   "id": "34ff52a5",
   "metadata": {},
   "source": [
    "## Tensorflow"
   ]
  },
  {
   "cell_type": "code",
   "execution_count": null,
   "id": "b3d39283",
   "metadata": {},
   "outputs": [],
   "source": [
    "import tensorflow.keras.layers as layers\n",
    "\n",
    "from tensorflow.keras.models import load_model\n",
    "from tensorflow.keras import Sequential"
   ]
  },
  {
   "cell_type": "markdown",
   "id": "8a4e2e01",
   "metadata": {},
   "source": [
    "# 2) Settings"
   ]
  },
  {
   "cell_type": "code",
   "execution_count": null,
   "id": "223e9743",
   "metadata": {},
   "outputs": [],
   "source": [
    "# Should categorize X_train and X_test\n",
    "# Replaced by tf.keras.losses.SparseCategoricalCrossentropy\n",
    "CATEGORIZE_X = False\n",
    "\n",
    "# Load models/history from files\n",
    "# Will fail if files do not exist\n",
    "LOAD_SAVED_MODEL   = True\n",
    "LOAD_SAVED_HISTORY = True\n",
    "\n",
    "# Save models/history to file after building\n",
    "# Will only save of loading is disabled\n",
    "# (Warning) this will generate files!\n",
    "SAVE_MODEL   = True\n",
    "SAVE_HISTORY = True\n",
    "\n",
    "EPOCHS = 20\n",
    "BATCH_SIZE = 16\n",
    "\n",
    "if SAVE_HISTORY:\n",
    "    os.makedirs(os.path.dirname(\"histories/\"), exist_ok=True)\n",
    "if SAVE_MODEL:\n",
    "    absl.logging.set_verbosity(absl.logging.ERROR)"
   ]
  },
  {
   "cell_type": "markdown",
   "id": "55eb9cad",
   "metadata": {},
   "source": [
    "# 3) Loading data"
   ]
  },
  {
   "cell_type": "code",
   "execution_count": null,
   "id": "100af00c",
   "metadata": {},
   "outputs": [],
   "source": [
    "(X_train, y_train), (X_test, y_test) = cifar10.load_data()\n",
    "class_names = ('airplane', 'automobile', 'bird', 'cat', 'deer', 'dog', 'frog', 'horse', 'ship', 'truck')\n",
    "num_classes = len(class_names)"
   ]
  },
  {
   "cell_type": "code",
   "execution_count": null,
   "id": "f3bef444",
   "metadata": {},
   "outputs": [],
   "source": [
    "print(\"X_train\", X_train.dtype, X_train.shape)\n",
    "print(\"X_test \", X_test.dtype,  X_test.shape )\n",
    "print(\"y_train\", y_train.dtype, y_train.shape)\n",
    "print(\"y_test \", y_test.dtype,  y_test.shape )\n",
    "print(\"sample \", X_test[0][0][0])"
   ]
  },
  {
   "cell_type": "code",
   "execution_count": null,
   "id": "c9444036",
   "metadata": {},
   "outputs": [],
   "source": [
    "plt.figure(figsize=(32,32))\n",
    "for i in range(5):\n",
    "    class_id = y_train[i][0]\n",
    "    label = class_names[class_id]\n",
    "    \n",
    "    plt.subplot(1,5,i+1)\n",
    "    plt.imshow(X_train[i])\n",
    "    plt.xlabel(label, fontsize=30)\n",
    "    \n",
    "plt.show()"
   ]
  },
  {
   "cell_type": "markdown",
   "id": "d7da1bbf",
   "metadata": {},
   "source": [
    "# 4) Data preperation\n",
    "## Normalisation"
   ]
  },
  {
   "cell_type": "code",
   "execution_count": null,
   "id": "c4460e6c",
   "metadata": {},
   "outputs": [],
   "source": [
    "before  = X_train[0][0][0]\n",
    "X_train = np.divide(X_train, 255)\n",
    "X_test  = np.divide(X_test,  255)\n",
    "after   = X_train[0][0][0]\n",
    "\n",
    "print(f\"{before=} {after=}\")"
   ]
  },
  {
   "cell_type": "markdown",
   "id": "166ee6fc",
   "metadata": {},
   "source": [
    "## Categorisation"
   ]
  },
  {
   "cell_type": "code",
   "execution_count": null,
   "id": "337fb1aa",
   "metadata": {},
   "outputs": [],
   "source": [
    "if y_train[0].size == 1 and CATEGORIZE_X:\n",
    "    \n",
    "    before  = y_train[0][0]\n",
    "    y_train = tf.keras.utils.to_categorical(y_train, num_classes=num_classes)\n",
    "    y_test  = tf.keras.utils.to_categorical(y_test,  num_classes=num_classes)\n",
    "    after  = y_train[0]\n",
    "    \n",
    "    print(f\"{before=} {after=}\")"
   ]
  },
  {
   "cell_type": "markdown",
   "id": "6c2d9a8b",
   "metadata": {},
   "source": [
    "# 5) Helper functions\n",
    "## Plot history\n",
    "from https://www.tensorflow.org/tutorials/images/classification#visualize_training_results"
   ]
  },
  {
   "cell_type": "code",
   "execution_count": null,
   "id": "b3f0386e",
   "metadata": {},
   "outputs": [],
   "source": [
    "def plot_history(history, epochs):\n",
    "    acc = history['accuracy']\n",
    "    val_acc = history['val_accuracy']\n",
    "\n",
    "    loss = history['loss']\n",
    "    val_loss = history['val_loss']\n",
    "\n",
    "    epochs_range = range(epochs)\n",
    "\n",
    "    plt.figure(figsize=(8, 8))\n",
    "    plt.subplot(1, 2, 1)\n",
    "    plt.plot(epochs_range, acc, label='Training Accuracy')\n",
    "    plt.plot(epochs_range, val_acc, label='Validation Accuracy')\n",
    "    plt.legend(loc='lower right')\n",
    "    plt.title('Training and Validation Accuracy')\n",
    "\n",
    "    plt.subplot(1, 2, 2)\n",
    "    plt.plot(epochs_range, loss, label='Training Loss')\n",
    "    plt.plot(epochs_range, val_loss, label='Validation Loss')\n",
    "    plt.legend(loc='upper right')\n",
    "    plt.title('Training and Validation Loss')\n",
    "    plt.show()"
   ]
  },
  {
   "cell_type": "markdown",
   "id": "4802f94e",
   "metadata": {},
   "source": [
    "# 5) Neural Network\n",
    "Before we start making and testing Convolutional Neural Networks we should first test a basis Neural Network, in this case a simple sequential network that flattens the input data ((32,32,3)->(3072)), has a hidden layer of 64 relu activated neurons and an output layer of the amount of classes that exists in this dataset.\n",
    "## Building the model"
   ]
  },
  {
   "cell_type": "code",
   "execution_count": null,
   "id": "04e0a324",
   "metadata": {},
   "outputs": [],
   "source": [
    "if LOAD_SAVED_MODEL:\n",
    "    model = load_model(\"models/model5\")\n",
    "else:\n",
    "    model = Sequential([\n",
    "        layers.Flatten(input_shape=(32,32,3)),\n",
    "        layers.Dense(64, activation='relu'),\n",
    "        layers.Dense(num_classes),\n",
    "    ])\n",
    "    model.compile(optimizer='adam',\n",
    "              loss=tf.keras.losses.SparseCategoricalCrossentropy(from_logits=True),\n",
    "              metrics=['accuracy'])"
   ]
  },
  {
   "cell_type": "markdown",
   "id": "801b8c1d",
   "metadata": {},
   "source": [
    "## Training"
   ]
  },
  {
   "cell_type": "code",
   "execution_count": null,
   "id": "fd58eb4b",
   "metadata": {},
   "outputs": [],
   "source": [
    "# Replace with custom values if needed\n",
    "epochs = EPOCHS\n",
    "batch_size = BATCH_SIZE\n",
    "\n",
    "if LOAD_SAVED_HISTORY:\n",
    "    file = open(\"histories/history5\", \"r\")\n",
    "    history = json.load(file)\n",
    "else:\n",
    "    history = model.fit(X_train, y_train, batch_size=batch_size, epochs=epochs, validation_data=(X_test, y_test)).history\n",
    "    \n",
    "    if SAVE_MODEL:\n",
    "        model.save(\"models/model5\")\n",
    "    if SAVE_HISTORY:\n",
    "        file = open(\"histories/history5\", \"w\")\n",
    "        json.dump(history, file)\n",
    "\n",
    "plot_history(history, epochs)"
   ]
  },
  {
   "cell_type": "markdown",
   "id": "a6a7006d",
   "metadata": {},
   "source": [
    "# 6) Convolutional Neural Network\n",
    "For the first attempt at a CNN I will just put together layers by guessing, as this is a 2d image I will use 2 convolution layers with different sizes. MaxPooling2D is used in pretty much every example of image classification including the one from tensorflow, if I understand correctly this is to reduce noise but i'm not really sure.\n",
    "## Building the model"
   ]
  },
  {
   "cell_type": "code",
   "execution_count": null,
   "id": "7f1a1bab",
   "metadata": {},
   "outputs": [],
   "source": [
    "if LOAD_SAVED_MODEL:\n",
    "    model = load_model(\"models/model6\")\n",
    "else:\n",
    "    model = Sequential([\n",
    "      layers.Conv2D(3, 3, activation='relu'),\n",
    "      layers.MaxPooling2D(),\n",
    "      layers.Conv2D(6, 3, activation='relu'),\n",
    "      layers.MaxPooling2D(),\n",
    "      layers.Flatten(),\n",
    "      layers.Dense(32, activation='relu'),\n",
    "      layers.Dense(num_classes)\n",
    "    ])\n",
    "    model.compile(optimizer='adam',\n",
    "              loss=tf.keras.losses.SparseCategoricalCrossentropy(from_logits=True),\n",
    "              metrics=['accuracy'])"
   ]
  },
  {
   "cell_type": "markdown",
   "id": "82f50c49",
   "metadata": {},
   "source": [
    "## Training"
   ]
  },
  {
   "cell_type": "code",
   "execution_count": null,
   "id": "e2402774",
   "metadata": {},
   "outputs": [],
   "source": [
    "# Replace with custom values if needed\n",
    "epochs = EPOCHS\n",
    "batch_size = BATCH_SIZE\n",
    "\n",
    "if LOAD_SAVED_HISTORY:\n",
    "    file = open(\"histories/history6\", \"r\")\n",
    "    history = json.load(file)\n",
    "else:\n",
    "    history = model.fit(X_train, y_train, batch_size=batch_size, epochs=epochs, validation_data=(X_test, y_test)).history\n",
    "    \n",
    "    if SAVE_MODEL:\n",
    "        model.save(\"models/model6\")\n",
    "    if SAVE_HISTORY:\n",
    "        file = open(\"histories/history6\", \"w\")\n",
    "        json.dump(history, file)\n",
    "\n",
    "plot_history(history, epochs)"
   ]
  },
  {
   "cell_type": "markdown",
   "id": "5d0dd21f",
   "metadata": {},
   "source": [
    "# 7) Expanded CNN\n",
    "To try and increase the accuracy I will try to expand the network with more Convolutions and a dropout on the last convolution.\n",
    "## Building the model"
   ]
  },
  {
   "cell_type": "code",
   "execution_count": null,
   "id": "50b2374f",
   "metadata": {},
   "outputs": [],
   "source": [
    "if LOAD_SAVED_MODEL:\n",
    "    model = load_model(\"models/model7\")\n",
    "else:\n",
    "    model = Sequential([\n",
    "      layers.Conv2D(32, (3, 3), activation='relu'),\n",
    "      layers.MaxPooling2D(),\n",
    "      layers.Conv2D(32, (3, 3), activation='relu'),\n",
    "      layers.MaxPooling2D(),\n",
    "      layers.Conv2D(64, (3, 3), activation='relu'), # Extra layer of convolution\n",
    "      layers.MaxPooling2D(),\n",
    "      layers.Dropout(0.2), # Dropout of 20% to prevent overfitting\n",
    "      layers.Flatten(),\n",
    "      layers.Dense(32, activation='relu'),\n",
    "      layers.Dense(num_classes)\n",
    "    ])\n",
    "    model.compile(optimizer='adam',\n",
    "              loss=tf.keras.losses.SparseCategoricalCrossentropy(from_logits=True),\n",
    "              metrics=['accuracy'])"
   ]
  },
  {
   "cell_type": "markdown",
   "id": "88b83650",
   "metadata": {},
   "source": [
    "## Training"
   ]
  },
  {
   "cell_type": "code",
   "execution_count": null,
   "id": "ef4dd498",
   "metadata": {},
   "outputs": [],
   "source": [
    "# Replace with custom values if needed\n",
    "epochs = EPOCHS\n",
    "batch_size = BATCH_SIZE\n",
    "\n",
    "if LOAD_SAVED_HISTORY:\n",
    "    file = open(\"histories/history7\", \"r\")\n",
    "    history = json.load(file)\n",
    "else:\n",
    "    history = model.fit(X_train, y_train, batch_size=batch_size, epochs=epochs, validation_data=(X_test, y_test)).history\n",
    "    \n",
    "    if SAVE_MODEL:\n",
    "        model.save(\"models/model7\")\n",
    "    if SAVE_HISTORY:\n",
    "        file = open(\"histories/history7\", \"w\")\n",
    "        json.dump(history, file)\n",
    "\n",
    "plot_history(history, epochs)"
   ]
  },
  {
   "cell_type": "markdown",
   "id": "234908dc",
   "metadata": {},
   "source": [
    "# 7) Expanding CNN again\n",
    "Altough the last CNN was pretty accurate I am going to try improve the score by adding BatchNormalization, An extra Conv2D layer and increasing the size of the second to last Hidden layer. I am also adding padding to keep enough size for the extra convolution layer(s).\n",
    "## Building the model"
   ]
  },
  {
   "cell_type": "code",
   "execution_count": null,
   "id": "a3c75292",
   "metadata": {},
   "outputs": [],
   "source": [
    "if LOAD_SAVED_MODEL:\n",
    "    model = load_model(\"models/model7\")\n",
    "else:\n",
    "    model = Sequential([\n",
    "      layers.Conv2D(32, (3, 3), activation='relu'),\n",
    "      layers.BatchNormalization(),\n",
    "      layers.MaxPooling2D(),\n",
    "      layers.Conv2D(32, (3, 3), activation='relu'),\n",
    "      layers.BatchNormalization(),\n",
    "      layers.MaxPooling2D(),\n",
    "      layers.Conv2D(64, (3, 3), activation='relu', padding='same'),\n",
    "      layers.BatchNormalization(),\n",
    "      layers.MaxPooling2D(),\n",
    "      layers.Conv2D(64, (3, 3), activation='relu', padding='same'), # Extra layer of convolution\n",
    "      layers.BatchNormalization(),\n",
    "      layers.MaxPooling2D(),\n",
    "      layers.Dropout(0.2),\n",
    "      layers.Flatten(),\n",
    "      layers.Dense(128, activation='relu'),\n",
    "      layers.Dense(num_classes)\n",
    "    ])\n",
    "    model.compile(optimizer='adam',\n",
    "              loss=tf.keras.losses.SparseCategoricalCrossentropy(from_logits=True),\n",
    "              metrics=['accuracy'])"
   ]
  },
  {
   "cell_type": "markdown",
   "id": "d5da9427",
   "metadata": {},
   "source": [
    "## Training"
   ]
  },
  {
   "cell_type": "code",
   "execution_count": null,
   "id": "7fcfe41e",
   "metadata": {},
   "outputs": [],
   "source": [
    "# Replace with custom values if needed\n",
    "epochs = EPOCHS\n",
    "batch_size = BATCH_SIZE\n",
    "\n",
    "if LOAD_SAVED_HISTORY:\n",
    "    file = open(\"histories/history7\", \"r\")\n",
    "    history = json.load(file)\n",
    "else:\n",
    "    history = model.fit(X_train, y_train, batch_size=batch_size, epochs=epochs, validation_data=(X_test, y_test)).history\n",
    "    \n",
    "    if SAVE_MODEL:\n",
    "        model.save(\"models/model7\")\n",
    "    if SAVE_HISTORY:\n",
    "        file = open(\"histories/history7\", \"w\")\n",
    "        json.dump(history, file)\n",
    "\n",
    "plot_history(history, epochs)"
   ]
  },
  {
   "cell_type": "markdown",
   "id": "ac571177",
   "metadata": {},
   "source": [
    "# 8) Overfitting CNN\n",
    "In the previous CNN you could see that it was overfitting because the Training and Validation values started to drift to far apart. To try and fix this I will add dropouts to more layers so the network can't overfit as much.\n",
    "## Building the model"
   ]
  },
  {
   "cell_type": "code",
   "execution_count": null,
   "id": "5afebc72",
   "metadata": {},
   "outputs": [],
   "source": [
    "if LOAD_SAVED_MODEL:\n",
    "    model = load_model(\"models/model8\")\n",
    "else:\n",
    "    model = Sequential([\n",
    "      layers.Conv2D(32, (3, 3), activation='relu'),\n",
    "      layers.BatchNormalization(),\n",
    "      layers.MaxPooling2D(),\n",
    "      layers.Dropout(0.2),\n",
    "      layers.Conv2D(32, (3, 3), activation='relu'),\n",
    "      layers.BatchNormalization(),\n",
    "      layers.MaxPooling2D(),\n",
    "      layers.Dropout(0.2),\n",
    "      layers.Conv2D(64, (3, 3), activation='relu', padding='same'),\n",
    "      layers.BatchNormalization(),\n",
    "      layers.MaxPooling2D(),\n",
    "      layers.Dropout(0.2),\n",
    "      layers.Conv2D(64, (3, 3), activation='relu', padding='same'), # Extra layer of convolution\n",
    "      layers.BatchNormalization(),\n",
    "      layers.MaxPooling2D(),\n",
    "      layers.Dropout(0.2),\n",
    "      layers.Flatten(),\n",
    "      layers.Dense(128, activation='relu'),\n",
    "      layers.Dropout(0.4),\n",
    "      layers.Dense(num_classes)\n",
    "    ])\n",
    "    model.compile(optimizer='adam',\n",
    "              loss=tf.keras.losses.SparseCategoricalCrossentropy(from_logits=True),\n",
    "              metrics=['accuracy'])"
   ]
  },
  {
   "cell_type": "markdown",
   "id": "72be08aa",
   "metadata": {},
   "source": [
    "## Training"
   ]
  },
  {
   "cell_type": "code",
   "execution_count": null,
   "id": "bfc218dd",
   "metadata": {},
   "outputs": [],
   "source": [
    "# Replace with custom values if needed\n",
    "epochs = EPOCHS\n",
    "batch_size = BATCH_SIZE\n",
    "\n",
    "if LOAD_SAVED_HISTORY:\n",
    "    file = open(\"histories/history8\", \"r\")\n",
    "    history = json.load(file)\n",
    "else:\n",
    "    history = model.fit(X_train, y_train, batch_size=batch_size, epochs=epochs, validation_data=(X_test, y_test)).history\n",
    "    \n",
    "    if SAVE_MODEL:\n",
    "        model.save(\"models/model8\")\n",
    "    if SAVE_HISTORY:\n",
    "        file = open(\"histories/history8\", \"w\")\n",
    "        json.dump(history, file)\n",
    "\n",
    "plot_history(history, epochs)"
   ]
  },
  {
   "cell_type": "markdown",
   "id": "db4026e9",
   "metadata": {},
   "source": [
    "# Conclusion\n",
    "In the last CNN the overfitting was mostly fixed but the model was not at it's fullest potential but I don't think it would go much higher than 72-75% which was the validation score of the previous model. There are probably more efficient models that exist but witouth way to much testing I don't think I can reach much more accuracy than this."
   ]
  }
 ],
 "metadata": {
  "kernelspec": {
   "display_name": "Python 3 (ipykernel)",
   "language": "python",
   "name": "python3"
  },
  "language_info": {
   "codemirror_mode": {
    "name": "ipython",
    "version": 3
   },
   "file_extension": ".py",
   "mimetype": "text/x-python",
   "name": "python",
   "nbconvert_exporter": "python",
   "pygments_lexer": "ipython3",
   "version": "3.9.13"
  }
 },
 "nbformat": 4,
 "nbformat_minor": 5
}
